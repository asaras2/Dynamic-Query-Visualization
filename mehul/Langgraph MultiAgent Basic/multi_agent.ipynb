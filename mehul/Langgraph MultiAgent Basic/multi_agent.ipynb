{
 "cells": [
  {
   "cell_type": "code",
   "execution_count": 32,
   "metadata": {},
   "outputs": [
    {
     "data": {
      "text/plain": [
       "True"
      ]
     },
     "execution_count": 32,
     "metadata": {},
     "output_type": "execute_result"
    }
   ],
   "source": [
    "from dotenv import load_dotenv\n",
    "load_dotenv()"
   ]
  },
  {
   "cell_type": "code",
   "execution_count": 33,
   "metadata": {},
   "outputs": [],
   "source": [
    "from langchain_openai import ChatOpenAI\n",
    "\n",
    "llm = ChatOpenAI()"
   ]
  },
  {
   "cell_type": "code",
   "execution_count": 34,
   "metadata": {},
   "outputs": [],
   "source": [
    "from langchain_community.tools.tavily_search import TavilySearchResults\n",
    "\n",
    "web_search_tool = TavilySearchResults(max_results=2)"
   ]
  },
  {
   "cell_type": "code",
   "execution_count": 35,
   "metadata": {},
   "outputs": [],
   "source": [
    "from langchain_community.document_loaders import PyPDFLoader, Docx2txtLoader\n",
    "from langchain_text_splitters import RecursiveCharacterTextSplitter\n",
    "from typing import List\n",
    "from langchain_core.documents import Document\n",
    "import os"
   ]
  },
  {
   "cell_type": "code",
   "execution_count": 36,
   "metadata": {},
   "outputs": [
    {
     "name": "stdout",
     "output_type": "stream",
     "text": [
      "TheFutureofAI.pdf\n",
      "Loaded 9 documents from the folder.\n"
     ]
    }
   ],
   "source": [
    "def load_documents(folder_path: str) -> List[Document]:\n",
    "     documents = []\n",
    "     for filename in os.listdir(folder_path):\n",
    "         file_path = os.path.join(folder_path, filename)\n",
    "         if filename.endswith('.pdf'):\n",
    "             print(filename)\n",
    "             loader = PyPDFLoader(file_path)\n",
    "         elif filename.endswith('.docx'):\n",
    "             loader = Docx2txtLoader(file_path)\n",
    "         else:\n",
    "             print(f\"Unsupported file type: {filename}\")\n",
    "             continue\n",
    "         documents.extend(loader.load())\n",
    "     return documents\n",
    "\n",
    "folder_path = \"./docs\"\n",
    "documents = load_documents(folder_path)\n",
    "print(f\"Loaded {len(documents)} documents from the folder.\")\n"
   ]
  },
  {
   "cell_type": "code",
   "execution_count": 37,
   "metadata": {},
   "outputs": [
    {
     "name": "stdout",
     "output_type": "stream",
     "text": [
      "Split the documents into 30 chunks.\n"
     ]
    }
   ],
   "source": [
    "text_splitter = RecursiveCharacterTextSplitter(\n",
    "     chunk_size=1000,\n",
    "     chunk_overlap=200,\n",
    "     length_function=len\n",
    " )\n",
    "\n",
    "splits = text_splitter.split_documents(documents)\n",
    "print(f\"Split the documents into {len(splits)} chunks.\")"
   ]
  },
  {
   "cell_type": "code",
   "execution_count": 38,
   "metadata": {},
   "outputs": [],
   "source": [
    "from langchain_community.embeddings.sentence_transformer import SentenceTransformerEmbeddings\n",
    "\n",
    "embedding_function = SentenceTransformerEmbeddings(model_name=\"all-MiniLM-L6-v2\")"
   ]
  },
  {
   "cell_type": "code",
   "execution_count": 39,
   "metadata": {},
   "outputs": [],
   "source": [
    "from langchain_chroma import Chroma\n",
    "\n",
    "collection_name = \"my_collection\"\n",
    "vectorstore = Chroma.from_documents(\n",
    "    collection_name=collection_name,\n",
    "    documents=splits,\n",
    "    embedding=embedding_function,\n",
    "    persist_directory=\"./chroma_db\"\n",
    ")"
   ]
  },
  {
   "cell_type": "code",
   "execution_count": 40,
   "metadata": {},
   "outputs": [],
   "source": [
    "from langchain.tools import tool\n",
    "from pydantic import BaseModel\n",
    "\n",
    "class RagToolSchema(BaseModel):\n",
    "    question: str\n",
    "\n",
    "@tool(args_schema=RagToolSchema)\n",
    "def retriever_tool(question):\n",
    "    \"\"\"Tool to Retrieve Semantically Similar documents to answer User Questions related to Future of AI.\"\"\"\n",
    "    print(\"INSIDE RETRIEVER NODE\")\n",
    "    retriever = vectorstore.as_retriever(search_kwargs={\"k\": 2})\n",
    "    retriever_result = retriever.invoke(question)\n",
    "    return \"\\n\\n\".join(doc.page_content for doc in retriever_result)\n"
   ]
  },
  {
   "cell_type": "code",
   "execution_count": 41,
   "metadata": {},
   "outputs": [],
   "source": [
    "from langchain_community.utilities import SQLDatabase\n",
    "\n",
    "db = SQLDatabase.from_uri(\"sqlite:///Chinook.db\")"
   ]
  },
  {
   "cell_type": "code",
   "execution_count": 42,
   "metadata": {},
   "outputs": [],
   "source": [
    "import re\n",
    "\n",
    "def clean_sql_query(text: str) -> str:\n",
    "    \"\"\"\n",
    "    Clean SQL query by removing code block syntax, various SQL tags, backticks,\n",
    "    prefixes, and unnecessary whitespace while preserving the core SQL query.\n",
    "\n",
    "    Args:\n",
    "        text (str): Raw SQL query text that may contain code blocks, tags, and backticks\n",
    "\n",
    "    Returns:\n",
    "        str: Cleaned SQL query\n",
    "    \"\"\"\n",
    "    # Step 1: Remove code block syntax and any SQL-related tags\n",
    "    # This handles variations like ```sql, ```SQL, ```SQLQuery, etc.\n",
    "    block_pattern = r\"```(?:sql|SQL|SQLQuery|mysql|postgresql)?\\s*(.*?)\\s*```\"\n",
    "    text = re.sub(block_pattern, r\"\\1\", text, flags=re.DOTALL)\n",
    "\n",
    "    # Step 2: Handle \"SQLQuery:\" prefix and similar variations\n",
    "    # This will match patterns like \"SQLQuery:\", \"SQL Query:\", \"MySQL:\", etc.\n",
    "    prefix_pattern = r\"^(?:SQL\\s*Query|SQLQuery|MySQL|PostgreSQL|SQL)\\s*:\\s*\"\n",
    "    text = re.sub(prefix_pattern, \"\", text, flags=re.IGNORECASE)\n",
    "\n",
    "    # Step 3: Extract the first SQL statement if there's random text after it\n",
    "    # Look for a complete SQL statement ending with semicolon\n",
    "    sql_statement_pattern = r\"(SELECT.*?;)\"\n",
    "    sql_match = re.search(sql_statement_pattern, text, flags=re.IGNORECASE | re.DOTALL)\n",
    "    if sql_match:\n",
    "        text = sql_match.group(1)\n",
    "\n",
    "    # Step 4: Remove backticks around identifiers\n",
    "    text = re.sub(r'`([^`]*)`', r'\\1', text)\n",
    "\n",
    "    # Step 5: Normalize whitespace\n",
    "    # Replace multiple spaces with single space\n",
    "    text = re.sub(r'\\s+', ' ', text)\n",
    "\n",
    "    # Step 6: Preserve newlines for main SQL keywords to maintain readability\n",
    "    keywords = ['SELECT', 'FROM', 'WHERE', 'GROUP BY', 'HAVING', 'ORDER BY',\n",
    "               'LIMIT', 'JOIN', 'LEFT JOIN', 'RIGHT JOIN', 'INNER JOIN',\n",
    "               'OUTER JOIN', 'UNION', 'VALUES', 'INSERT', 'UPDATE', 'DELETE']\n",
    "\n",
    "    # Case-insensitive replacement for keywords\n",
    "    pattern = '|'.join(r'\\b{}\\b'.format(k) for k in keywords)\n",
    "    text = re.sub(f'({pattern})', r'\\n\\1', text, flags=re.IGNORECASE)\n",
    "\n",
    "    # Step 7: Final cleanup\n",
    "    # Remove leading/trailing whitespace and extra newlines\n",
    "    text = text.strip()\n",
    "    text = re.sub(r'\\n\\s*\\n', '\\n', text)\n",
    "\n",
    "    return text\n"
   ]
  },
  {
   "cell_type": "code",
   "execution_count": 43,
   "metadata": {},
   "outputs": [],
   "source": [
    "from langchain.chains import create_sql_query_chain\n",
    "from langchain_community.tools.sql_database.tool import QuerySQLDataBaseTool\n",
    "from operator import itemgetter\n",
    "import re\n",
    "from langchain_core.output_parsers import StrOutputParser\n",
    "from langchain_core.prompts import PromptTemplate\n",
    "from langchain_core.runnables import RunnablePassthrough, RunnableLambda"
   ]
  },
  {
   "cell_type": "code",
   "execution_count": 44,
   "metadata": {},
   "outputs": [],
   "source": [
    "class SQLToolSchema(BaseModel):\n",
    "    question: str\n",
    "\n",
    "@tool(args_schema=SQLToolSchema)\n",
    "def nl2sql_tool(question):\n",
    "    \"\"\"Tool to Generate and Execute SQL Query to answer User Questions related to chinook DB\"\"\"\n",
    "    print(\"INSIDE NL2SQL TOOL\")\n",
    "    execute_query = QuerySQLDataBaseTool(db=db)\n",
    "    write_query = create_sql_query_chain(llm, db)\n",
    "\n",
    "    chain = (\n",
    "        RunnablePassthrough.assign(query=write_query | RunnableLambda(clean_sql_query)).assign(\n",
    "            result=itemgetter(\"query\") | execute_query\n",
    "        )\n",
    "    )\n",
    "\n",
    "    response = chain.invoke({\"question\": question})\n",
    "    return response['result']"
   ]
  },
  {
   "cell_type": "markdown",
   "metadata": {},
   "source": [
    "### Supervisor Agent"
   ]
  },
  {
   "cell_type": "code",
   "execution_count": 45,
   "metadata": {},
   "outputs": [],
   "source": [
    "from typing import Literal\n",
    "from typing_extensions import TypedDict\n",
    "from langgraph.graph import MessagesState, START, END\n",
    "from langgraph.types import Command\n",
    "from langchain_core.messages import HumanMessage, AIMessage\n",
    "from langgraph.graph import StateGraph, START, END\n",
    "from langgraph.prebuilt import create_react_agent"
   ]
  },
  {
   "cell_type": "code",
   "execution_count": 46,
   "metadata": {},
   "outputs": [],
   "source": [
    "from typing import Callable, Literal, Optional, Sequence, Type, TypeVar, Union, cast\n",
    "from langchain_core.language_models import BaseChatModel, LanguageModelLike\n",
    "from langchain_core.messages import AIMessage, BaseMessage, SystemMessage, ToolMessage\n",
    "from langchain_core.runnables import (\n",
    "    Runnable,\n",
    "    RunnableBinding,\n",
    "    RunnableConfig,\n",
    ")\n",
    "from langchain_core.tools import BaseTool\n",
    "from typing_extensions import Annotated, TypedDict\n",
    "from langgraph._api.deprecation import deprecated_parameter\n",
    "from langgraph.errors import ErrorCode, create_error_message\n",
    "from langgraph.graph import StateGraph\n",
    "from langgraph.graph.graph import CompiledGraph\n",
    "from langgraph.graph.message import add_messages\n",
    "from langgraph.managed import IsLastStep, RemainingSteps\n",
    "# from langgraph.prebuilt.tool_executor import ToolExecutor\n",
    "from langgraph.prebuilt.tool_node import ToolNode, tools_condition\n",
    "from langgraph.store.base import BaseStore\n",
    "from langgraph.types import Checkpointer\n",
    "from langgraph.utils.runnable import RunnableCallable"
   ]
  },
  {
   "cell_type": "code",
   "execution_count": 47,
   "metadata": {},
   "outputs": [],
   "source": [
    "# Define available agents\n",
    "members = [\"web_researcher\", \"rag\", \"nl2sql\"]\n",
    "# Add FINISH as an option for task completion\n",
    "options = members + [\"FINISH\"]"
   ]
  },
  {
   "cell_type": "code",
   "execution_count": 48,
   "metadata": {},
   "outputs": [],
   "source": [
    "# Create system prompt for supervisor\n",
    "system_prompt = (\n",
    "    \"You are a supervisor tasked with managing a conversation between the\"\n",
    "    f\" following workers: {members}. Given the following user request,\"\n",
    "    \" respond with the worker to act next. Each worker will perform a\"\n",
    "    \" task and respond with their results and status. When finished,\"\n",
    "    \" respond with FINISH.\"\n",
    ")"
   ]
  },
  {
   "cell_type": "code",
   "execution_count": 49,
   "metadata": {},
   "outputs": [],
   "source": [
    "# Define router type for structured output\n",
    "class Router(TypedDict):\n",
    "    \"\"\"Worker to route to next. If no workers needed, route to FINISH.\"\"\"\n",
    "    next: Literal[\"web_researcher\", \"rag\", \"nl2sql\", \"FINISH\"]"
   ]
  },
  {
   "cell_type": "code",
   "execution_count": 50,
   "metadata": {},
   "outputs": [],
   "source": [
    "# Create supervisor node function\n",
    "def supervisor_node(state: MessagesState) -> Command[Literal[\"web_researcher\", \"rag\", \"nl2sql\", \"__end__\"]]:\n",
    "    messages = [\n",
    "        {\"role\": \"system\", \"content\": system_prompt},\n",
    "    ] + state[\"messages\"]\n",
    "    response = llm.with_structured_output(Router).invoke(messages)\n",
    "    goto = response[\"next\"]\n",
    "    print(f\"Next Worker: {goto}\")\n",
    "    if goto == \"FINISH\":\n",
    "        goto = END\n",
    "    return Command(goto=goto)"
   ]
  },
  {
   "cell_type": "code",
   "execution_count": 51,
   "metadata": {},
   "outputs": [],
   "source": [
    "class AgentState(TypedDict):\n",
    "    \"\"\"The state of the agent.\"\"\"\n",
    "    messages: Annotated[Sequence[BaseMessage], add_messages]\n",
    "\n",
    "def create_agent(llm, tools):\n",
    "    llm_with_tools = llm.bind_tools(tools)\n",
    "    def chatbot(state: AgentState):\n",
    "        return {\"messages\": [llm_with_tools.invoke(state[\"messages\"])]}\n",
    "\n",
    "    graph_builder = StateGraph(AgentState)\n",
    "    graph_builder.add_node(\"agent\", chatbot)\n",
    "\n",
    "    tool_node = ToolNode(tools=tools)\n",
    "    graph_builder.add_node(\"tools\", tool_node)\n",
    "\n",
    "    graph_builder.add_conditional_edges(\n",
    "        \"agent\",\n",
    "        tools_condition,\n",
    "    )\n",
    "    graph_builder.add_edge(\"tools\", \"agent\")\n",
    "    graph_builder.set_entry_point(\"agent\")\n",
    "    return graph_builder.compile()\n"
   ]
  },
  {
   "cell_type": "code",
   "execution_count": 52,
   "metadata": {},
   "outputs": [],
   "source": [
    "websearch_agent = create_agent(llm, [web_search_tool])\n",
    "\n",
    "def web_research_node(state: MessagesState) -> Command[Literal[\"supervisor\"]]:\n",
    "    result = websearch_agent.invoke(state)\n",
    "    return Command(\n",
    "        update={\n",
    "            \"messages\": [\n",
    "                HumanMessage(content=result[\"messages\"][-1].content, name=\"web_researcher\")\n",
    "            ]\n",
    "        },\n",
    "        goto=\"supervisor\",\n",
    "    )"
   ]
  },
  {
   "cell_type": "code",
   "execution_count": 53,
   "metadata": {},
   "outputs": [],
   "source": [
    "rag_agent = create_agent(llm, [retriever_tool])\n",
    "\n",
    "def rag_node(state: MessagesState) -> Command[Literal[\"supervisor\"]]:\n",
    "    result = rag_agent.invoke(state)\n",
    "    return Command(\n",
    "        update={\n",
    "            \"messages\": [\n",
    "                HumanMessage(content=result[\"messages\"][-1].content, name=\"rag\")\n",
    "            ]\n",
    "        },\n",
    "        goto=\"supervisor\",\n",
    "    )"
   ]
  },
  {
   "cell_type": "code",
   "execution_count": 54,
   "metadata": {},
   "outputs": [],
   "source": [
    "nl2sql_agent = create_agent(llm, [nl2sql_tool])\n",
    "\n",
    "def nl2sql_node(state: MessagesState) -> Command[Literal[\"supervisor\"]]:\n",
    "    result = nl2sql_agent.invoke(state)\n",
    "    return Command(\n",
    "        update={\n",
    "            \"messages\": [\n",
    "                HumanMessage(content=result[\"messages\"][-1].content, name=\"nl2sql\")\n",
    "            ]\n",
    "        },\n",
    "        goto=\"supervisor\",\n",
    "    )"
   ]
  },
  {
   "cell_type": "code",
   "execution_count": 58,
   "metadata": {},
   "outputs": [
    {
     "name": "stdout",
     "output_type": "stream",
     "text": [
      "{'agent': {'messages': [AIMessage(content='', additional_kwargs={'tool_calls': [{'id': 'call_80Ufa4ufrwaYtHVyonZLuaAH', 'function': {'arguments': '{\"question\":\"Find the top 3 albums\"}', 'name': 'nl2sql_tool'}, 'type': 'function'}], 'refusal': None}, response_metadata={'token_usage': {'completion_tokens': 22, 'prompt_tokens': 63, 'total_tokens': 85, 'completion_tokens_details': {'accepted_prediction_tokens': 0, 'audio_tokens': 0, 'reasoning_tokens': 0, 'rejected_prediction_tokens': 0}, 'prompt_tokens_details': {'audio_tokens': 0, 'cached_tokens': 0}}, 'model_name': 'gpt-3.5-turbo-0125', 'system_fingerprint': None, 'id': 'chatcmpl-BJT1z4v6WhLcbiKZ9KT0S38gPozrU', 'finish_reason': 'tool_calls', 'logprobs': None}, id='run-070c554d-e7a7-4589-b964-964fba79f7a4-0', tool_calls=[{'name': 'nl2sql_tool', 'args': {'question': 'Find the top 3 albums'}, 'id': 'call_80Ufa4ufrwaYtHVyonZLuaAH', 'type': 'tool_call'}], usage_metadata={'input_tokens': 63, 'output_tokens': 22, 'total_tokens': 85, 'input_token_details': {'audio': 0, 'cache_read': 0}, 'output_token_details': {'audio': 0, 'reasoning': 0}})]}}\n",
      "INSIDE NL2SQL TOOL\n",
      "{'tools': {'messages': [ToolMessage(content='[(347, \\'Koyaanisqatsi (Soundtrack from the Motion Picture)\\'), (346, \\'Mozart: Chamber Music\\'), (345, \"Monteverdi: L\\'Orfeo\")]', name='nl2sql_tool', id='d0e4fb63-a147-490b-ac07-c607079765a8', tool_call_id='call_80Ufa4ufrwaYtHVyonZLuaAH')]}}\n",
      "{'agent': {'messages': [AIMessage(content=\"The top 3 albums are:\\n1. Koyaanisqatsi (Soundtrack from the Motion Picture)\\n2. Mozart: Chamber Music\\n3. Monteverdi: L'Orfeo\", additional_kwargs={'refusal': None}, response_metadata={'token_usage': {'completion_tokens': 44, 'prompt_tokens': 138, 'total_tokens': 182, 'completion_tokens_details': {'accepted_prediction_tokens': 0, 'audio_tokens': 0, 'reasoning_tokens': 0, 'rejected_prediction_tokens': 0}, 'prompt_tokens_details': {'audio_tokens': 0, 'cached_tokens': 0}}, 'model_name': 'gpt-3.5-turbo-0125', 'system_fingerprint': None, 'id': 'chatcmpl-BJT20tdUhKZIuMJf9KhrOZW7tmWbg', 'finish_reason': 'stop', 'logprobs': None}, id='run-96bd6882-c8e4-4438-851c-ab73adfa793a-0', usage_metadata={'input_tokens': 138, 'output_tokens': 44, 'total_tokens': 182, 'input_token_details': {'audio': 0, 'cache_read': 0}, 'output_token_details': {'audio': 0, 'reasoning': 0}})]}}\n"
     ]
    }
   ],
   "source": [
    "for evt in nl2sql_agent.stream(\n",
    "    {\"messages\": [(\"user\", \"Find the top 3 albums\")]}, \n",
    "):\n",
    "    print(evt)"
   ]
  },
  {
   "cell_type": "code",
   "execution_count": 55,
   "metadata": {},
   "outputs": [],
   "source": [
    "builder = StateGraph(MessagesState)\n",
    "builder.add_edge(START, \"supervisor\")\n",
    "builder.add_node(\"supervisor\", supervisor_node)\n",
    "builder.add_node(\"web_researcher\", web_research_node)\n",
    "builder.add_node(\"rag\", rag_node)\n",
    "builder.add_node(\"nl2sql\", nl2sql_node)\n",
    "graph = builder.compile()"
   ]
  },
  {
   "cell_type": "code",
   "execution_count": 56,
   "metadata": {},
   "outputs": [
    {
     "data": {
      "image/png": "[encoded data removed]",
      "text/plain": [
       "<IPython.core.display.Image object>"
      ]
     },
     "metadata": {},
     "output_type": "display_data"
    }
   ],
   "source": [
    "from IPython.display import Image, display\n",
    "\n",
    "try:\n",
    "    display(Image(graph.get_graph().draw_mermaid_png()))\n",
    "except Exception:\n",
    "    # You can put your exception handling code here\n",
    "    pass\n"
   ]
  },
  {
   "cell_type": "code",
   "execution_count": 57,
   "metadata": {},
   "outputs": [
    {
     "name": "stderr",
     "output_type": "stream",
     "text": [
      "/Users/mehulmathur/AI Projects/Langgraph MultiAgent Basic/langgraph_multiagent/lib/python3.13/site-packages/langchain_openai/chat_models/base.py:1637: UserWarning: Cannot use method='json_schema' with model gpt-3.5-turbo since it doesn't support OpenAI's Structured Output API. You can see supported models here: https://platform.openai.com/docs/guides/structured-outputs#supported-models. To fix this warning, set `method='function_calling'. Overriding to method='function_calling'.\n",
      "  warnings.warn(\n"
     ]
    },
    {
     "name": "stdout",
     "output_type": "stream",
     "text": [
      "Next Worker: web_researcher\n",
      "((), {'supervisor': None})\n",
      "----\n",
      "(('web_researcher:7e192103-281e-0944-0755-4db07e244777',), {'agent': {'messages': [AIMessage(content='', additional_kwargs={'tool_calls': [{'id': 'call_D9EnR2fOzSHMA6FUhENDkx04', 'function': {'arguments': '{\"query\":\"top 3 albums\"}', 'name': 'tavily_search_results_json'}, 'type': 'function'}], 'refusal': None}, response_metadata={'token_usage': {'completion_tokens': 22, 'prompt_tokens': 87, 'total_tokens': 109, 'completion_tokens_details': {'accepted_prediction_tokens': 0, 'audio_tokens': 0, 'reasoning_tokens': 0, 'rejected_prediction_tokens': 0}, 'prompt_tokens_details': {'audio_tokens': 0, 'cached_tokens': 0}}, 'model_name': 'gpt-3.5-turbo-0125', 'system_fingerprint': None, 'id': 'chatcmpl-BJT0gasGMH5aCLvXLy7igad2Jl4Li', 'finish_reason': 'tool_calls', 'logprobs': None}, id='run-a1a9e3c0-9f43-48ff-a17c-654265c5c204-0', tool_calls=[{'name': 'tavily_search_results_json', 'args': {'query': 'top 3 albums'}, 'id': 'call_D9EnR2fOzSHMA6FUhENDkx04', 'type': 'tool_call'}], usage_metadata={'input_tokens': 87, 'output_tokens': 22, 'total_tokens': 109, 'input_token_details': {'audio': 0, 'cache_read': 0}, 'output_token_details': {'audio': 0, 'reasoning': 0}})]}})\n",
      "----\n",
      "(('web_researcher:7e192103-281e-0944-0755-4db07e244777',), {'tools': {'messages': [ToolMessage(content='[{\"title\": \"What are your top 3 albums of All time ? : r/AskReddit\", \"url\": \"https://www.reddit.com/r/AskReddit/comments/k7vko0/what_are_your_top_3_albums_of_all_time/\", \"content\": \"The Stones, Exile On Main Street, Van Morrison, It\\'s Too Late To Stop Now, Dylan, Blood On The Tracks, Genesis, The Lamb Lies Down On Broadway.\", \"score\": 0.7089592}, {\"title\": \"List of best-selling albums - Wikipedia\", \"url\": \"https://en.wikipedia.org/wiki/List_of_best-selling_albums\", \"content\": \"Michael Jackson\\'s Thriller, estimated to have sold 70 million copies worldwide, is the best-selling album ever.[4][5][6] Jackson also currently has the highest number of albums on the list with five, Celine Dion has four, while the Beatles, Madonna, Whitney Houston and Pink Floyd each have three. [...] ^ a b c d e f g h i j k l m n o p q r s t u v w \\\\\"Busqueda de Certificados\\\\\" (in Spanish). AMPROFON. Archived from the original on March 23, 2013. Retrieved November 22, 2011.\\\\n^ a b c d e f g h i j k l m n o p q r s t u v w x y z aa ab ac ad ae af ag ah ai aj ak al am an ao ap aq ar as at au av aw ax ay az ba bb bc \\\\\"Goud/Platina\\\\\" [Gold/Platinum] (in Dutch). NVPI. Archived from the original on August 23, 2018. Retrieved July 27, 2021. [...] In 2022, for sales of albums in 2021, IFPI reported three formats of sales chart, the Global all-format chart which includes all physical sales, digital downloads and streaming numbers, newly created Global vinyl album chart counting vinyl physical sales, combination of physical sales and digital downloads as Global album sales chart.\\\\n| Year | Album | Artist(s) | Sales\\\\n(millions) | Ref(s) |\\\\n| --- | --- | --- | --- | --- |\\\\n| 2001 | Hybrid Theory | Linkin Park | 9.0 | [240] |\", \"score\": 0.47928494}]', name='tavily_search_results_json', id='bb30f436-384c-4ee9-8931-1e5b70467825', tool_call_id='call_D9EnR2fOzSHMA6FUhENDkx04', artifact={'query': 'top 3 albums', 'follow_up_questions': None, 'answer': None, 'images': [], 'results': [{'url': 'https://www.reddit.com/r/AskReddit/comments/k7vko0/what_are_your_top_3_albums_of_all_time/', 'title': 'What are your top 3 albums of All time ? : r/AskReddit', 'content': \"The Stones, Exile On Main Street, Van Morrison, It's Too Late To Stop Now, Dylan, Blood On The Tracks, Genesis, The Lamb Lies Down On Broadway.\", 'score': 0.7089592, 'raw_content': None}, {'url': 'https://en.wikipedia.org/wiki/List_of_best-selling_albums', 'title': 'List of best-selling albums - Wikipedia', 'content': 'Michael Jackson\\'s Thriller, estimated to have sold 70 million copies worldwide, is the best-selling album ever.[4][5][6] Jackson also currently has the highest number of albums on the list with five, Celine Dion has four, while the Beatles, Madonna, Whitney Houston and Pink Floyd each have three. [...] ^ a b c d e f g h i j k l m n o p q r s t u v w \"Busqueda de Certificados\" (in Spanish). AMPROFON. Archived from the original on March 23, 2013. Retrieved November 22, 2011.\\n^ a b c d e f g h i j k l m n o p q r s t u v w x y z aa ab ac ad ae af ag ah ai aj ak al am an ao ap aq ar as at au av aw ax ay az ba bb bc \"Goud/Platina\" [Gold/Platinum] (in Dutch). NVPI. Archived from the original on August 23, 2018. Retrieved July 27, 2021. [...] In 2022, for sales of albums in 2021, IFPI reported three formats of sales chart, the Global all-format chart which includes all physical sales, digital downloads and streaming numbers, newly created Global vinyl album chart counting vinyl physical sales, combination of physical sales and digital downloads as Global album sales chart.\\n| Year | Album | Artist(s) | Sales\\n(millions) | Ref(s) |\\n| --- | --- | --- | --- | --- |\\n| 2001 | Hybrid Theory | Linkin Park | 9.0 | [240] |', 'score': 0.47928494, 'raw_content': None}], 'response_time': 1.43})]}})\n",
      "----\n",
      "(('web_researcher:7e192103-281e-0944-0755-4db07e244777',), {'agent': {'messages': [AIMessage(content='I found some information on the top albums:\\n\\n1. [List of best-selling albums - Wikipedia](https://en.wikipedia.org/wiki/List_of_best-selling_albums): This page mentions Michael Jackson\\'s \"Thriller\" as the best-selling album ever, estimated to have sold 70 million copies worldwide.\\n\\n2. [What are your top 3 albums of All time ? : r/AskReddit](https://www.reddit.com/r/AskReddit/comments/k7vko0/what_are_your_top_3_albums_of_all_time/): The top 3 albums mentioned in the post are - \"The Stones, Exile On Main Street\", \"Van Morrison, It\\'s Too Late To Stop Now\", and \"Dylan, Blood On The Tracks\".\\n\\nThese are some insights into the top albums.', additional_kwargs={'refusal': None}, response_metadata={'token_usage': {'completion_tokens': 164, 'prompt_tokens': 617, 'total_tokens': 781, 'completion_tokens_details': {'accepted_prediction_tokens': 0, 'audio_tokens': 0, 'reasoning_tokens': 0, 'rejected_prediction_tokens': 0}, 'prompt_tokens_details': {'audio_tokens': 0, 'cached_tokens': 0}}, 'model_name': 'gpt-3.5-turbo-0125', 'system_fingerprint': None, 'id': 'chatcmpl-BJT0ia44X021ANf9ErcvPUmWaAHjL', 'finish_reason': 'stop', 'logprobs': None}, id='run-6f35ab1a-91cf-4717-8dc1-3e15f695dfd4-0', usage_metadata={'input_tokens': 617, 'output_tokens': 164, 'total_tokens': 781, 'input_token_details': {'audio': 0, 'cache_read': 0}, 'output_token_details': {'audio': 0, 'reasoning': 0}})]}})\n",
      "----\n",
      "((), {'web_researcher': {'messages': [HumanMessage(content='I found some information on the top albums:\\n\\n1. [List of best-selling albums - Wikipedia](https://en.wikipedia.org/wiki/List_of_best-selling_albums): This page mentions Michael Jackson\\'s \"Thriller\" as the best-selling album ever, estimated to have sold 70 million copies worldwide.\\n\\n2. [What are your top 3 albums of All time ? : r/AskReddit](https://www.reddit.com/r/AskReddit/comments/k7vko0/what_are_your_top_3_albums_of_all_time/): The top 3 albums mentioned in the post are - \"The Stones, Exile On Main Street\", \"Van Morrison, It\\'s Too Late To Stop Now\", and \"Dylan, Blood On The Tracks\".\\n\\nThese are some insights into the top albums.', additional_kwargs={}, response_metadata={}, name='web_researcher')]}})\n",
      "----\n"
     ]
    },
    {
     "name": "stderr",
     "output_type": "stream",
     "text": [
      "/Users/mehulmathur/AI Projects/Langgraph MultiAgent Basic/langgraph_multiagent/lib/python3.13/site-packages/langchain_openai/chat_models/base.py:1637: UserWarning: Cannot use method='json_schema' with model gpt-3.5-turbo since it doesn't support OpenAI's Structured Output API. You can see supported models here: https://platform.openai.com/docs/guides/structured-outputs#supported-models. To fix this warning, set `method='function_calling'. Overriding to method='function_calling'.\n",
      "  warnings.warn(\n"
     ]
    },
    {
     "name": "stdout",
     "output_type": "stream",
     "text": [
      "Next Worker: rag\n",
      "((), {'supervisor': None})\n",
      "----\n",
      "INSIDE RETRIEVER NODE(('rag:ebfe9148-d951-56a6-8870-6ffc4094b2be',), {'agent': {'messages': [AIMessage(content='', additional_kwargs={'tool_calls': [{'id': 'call_tYNJFBZipeGRtNEsKBZqogWB', 'function': {'arguments': '{\"question\": \"What are the top 3 albums of all time?\"}', 'name': 'retriever_tool'}, 'type': 'function'}], 'refusal': None}, response_metadata={'token_usage': {'completion_tokens': 42, 'prompt_tokens': 233, 'total_tokens': 275, 'completion_tokens_details': {'accepted_prediction_tokens': 0, 'audio_tokens': 0, 'reasoning_tokens': 0, 'rejected_prediction_tokens': 0}, 'prompt_tokens_details': {'audio_tokens': 0, 'cached_tokens': 0}}, 'model_name': 'gpt-3.5-turbo-0125', 'system_fingerprint': None, 'id': 'chatcmpl-BJT0l8TwtsIlKvzTeYE4opKYmSSg6', 'finish_reason': 'tool_calls', 'logprobs': None}, id='run-066911a5-7ef7-4a7b-9e2c-1280764cb218-0', tool_calls=[{'name': 'retriever_tool', 'args': {'question': 'What are the top 3 albums of all time?'}, 'id': 'call_tYNJFBZipeGRtNEsKBZqogWB', 'type': 'tool_call'}], usage_metadata={'input_tokens': 233, 'output_tokens': 42, 'total_tokens': 275, 'input_token_details': {'audio': 0, 'cache_read': 0}, 'output_token_details': {'audio': 0, 'reasoning': 0}})]}})\n",
      "----\n",
      "\n",
      "(('rag:ebfe9148-d951-56a6-8870-6ffc4094b2be',), {'tools': {'messages': [ToolMessage(content='security cameras to function independently, optimizing energy use and providing enhanced user \\nexperiences. Similarly, in industrial automation, edge AI is enhancing predictive maintenance \\nsystems, ensuring that machinery operates efficiently and reducing downtime. With the growing \\ndemand for immediate processing and privacy-conscious applications, edge AI is poised to be a \\nkey enabler of the next generation of smart, autonomous systems. \\n \\nIII. Key Innovations \\nA. Generative AI \\nGenerative AI refers to models capable of creating novel content, such as text, images, music, \\nand even code, by learning from vast datasets. Models like OpenAI’s GPT (Generative Pre-\\ntrained Transformer), DALL-E, and Stable Diffusion have revolutionized creative fields by \\nenabling machines to produce highly realistic and contextually relevant content. These models \\nhave vast implications across industries, from automating content creation in marketing and\\n\\nsecurity cameras to function independently, optimizing energy use and providing enhanced user \\nexperiences. Similarly, in industrial automation, edge AI is enhancing predictive maintenance \\nsystems, ensuring that machinery operates efficiently and reducing downtime. With the growing \\ndemand for immediate processing and privacy-conscious applications, edge AI is poised to be a \\nkey enabler of the next generation of smart, autonomous systems. \\n \\nIII. Key Innovations \\nA. Generative AI \\nGenerative AI refers to models capable of creating novel content, such as text, images, music, \\nand even code, by learning from vast datasets. Models like OpenAI’s GPT (Generative Pre-\\ntrained Transformer), DALL-E, and Stable Diffusion have revolutionized creative fields by \\nenabling machines to produce highly realistic and contextually relevant content. These models \\nhave vast implications across industries, from automating content creation in marketing and', name='retriever_tool', id='ca8a58d4-4183-4121-b9a4-ec709f992edf', tool_call_id='call_tYNJFBZipeGRtNEsKBZqogWB')]}})\n",
      "----\n",
      "(('rag:ebfe9148-d951-56a6-8870-6ffc4094b2be',), {'agent': {'messages': [AIMessage(content=\"Based on the retrieved information related to the future of AI, I don't have specific details on the top 3 albums of all time. The content is related to the advancements and innovations in the field of AI, particularly in areas like edge AI and generative AI. If you need further information on the top albums, please provide more specific details or sources for me to search from.\", additional_kwargs={'refusal': None}, response_metadata={'token_usage': {'completion_tokens': 79, 'prompt_tokens': 628, 'total_tokens': 707, 'completion_tokens_details': {'accepted_prediction_tokens': 0, 'audio_tokens': 0, 'reasoning_tokens': 0, 'rejected_prediction_tokens': 0}, 'prompt_tokens_details': {'audio_tokens': 0, 'cached_tokens': 0}}, 'model_name': 'gpt-3.5-turbo-0125', 'system_fingerprint': None, 'id': 'chatcmpl-BJT0mohEZB9Bp2zyf80qIK9x3ZBCI', 'finish_reason': 'stop', 'logprobs': None}, id='run-b85e1433-e2d1-4a8c-9bd2-57afb7937795-0', usage_metadata={'input_tokens': 628, 'output_tokens': 79, 'total_tokens': 707, 'input_token_details': {'audio': 0, 'cache_read': 0}, 'output_token_details': {'audio': 0, 'reasoning': 0}})]}})\n",
      "----\n",
      "((), {'rag': {'messages': [HumanMessage(content=\"Based on the retrieved information related to the future of AI, I don't have specific details on the top 3 albums of all time. The content is related to the advancements and innovations in the field of AI, particularly in areas like edge AI and generative AI. If you need further information on the top albums, please provide more specific details or sources for me to search from.\", additional_kwargs={}, response_metadata={}, name='rag')]}})\n",
      "----\n"
     ]
    },
    {
     "name": "stderr",
     "output_type": "stream",
     "text": [
      "/Users/mehulmathur/AI Projects/Langgraph MultiAgent Basic/langgraph_multiagent/lib/python3.13/site-packages/langchain_openai/chat_models/base.py:1637: UserWarning: Cannot use method='json_schema' with model gpt-3.5-turbo since it doesn't support OpenAI's Structured Output API. You can see supported models here: https://platform.openai.com/docs/guides/structured-outputs#supported-models. To fix this warning, set `method='function_calling'. Overriding to method='function_calling'.\n",
      "  warnings.warn(\n"
     ]
    },
    {
     "name": "stdout",
     "output_type": "stream",
     "text": [
      "Next Worker: nl2sql\n",
      "((), {'supervisor': None})\n",
      "----\n",
      "(('nl2sql:027c88a7-7055-f603-b7a6-af0f31cae086',), {'agent': {'messages': [AIMessage(content='', additional_kwargs={'tool_calls': [{'id': 'call_NiHBxsXu5iHSLRujY8nzdeJS', 'function': {'arguments': '{\"question\": \"What are the top 3 albums in the chinook database?\"}', 'name': 'nl2sql_tool'}, 'type': 'function'}], 'refusal': None}, response_metadata={'token_usage': {'completion_tokens': 44, 'prompt_tokens': 317, 'total_tokens': 361, 'completion_tokens_details': {'accepted_prediction_tokens': 0, 'audio_tokens': 0, 'reasoning_tokens': 0, 'rejected_prediction_tokens': 0}, 'prompt_tokens_details': {'audio_tokens': 0, 'cached_tokens': 0}}, 'model_name': 'gpt-3.5-turbo-0125', 'system_fingerprint': None, 'id': 'chatcmpl-BJT0qLqx3FLYpXnk2AE4pLKFMtjqE', 'finish_reason': 'tool_calls', 'logprobs': None}, id='run-07157ec4-b903-44c7-b519-41f7c05946fa-0', tool_calls=[{'name': 'nl2sql_tool', 'args': {'question': 'What are the top 3 albums in the chinook database?'}, 'id': 'call_NiHBxsXu5iHSLRujY8nzdeJS', 'type': 'tool_call'}], usage_metadata={'input_tokens': 317, 'output_tokens': 44, 'total_tokens': 361, 'input_token_details': {'audio': 0, 'cache_read': 0}, 'output_token_details': {'audio': 0, 'reasoning': 0}})]}})INSIDE NL2SQL TOOL\n",
      "\n",
      "----\n"
     ]
    },
    {
     "name": "stderr",
     "output_type": "stream",
     "text": [
      "/var/folders/f3/ztvztwvx319gkrwkcgfkyk180000gn/T/ipykernel_16701/3109450319.py:8: LangChainDeprecationWarning: The class `QuerySQLDataBaseTool` was deprecated in LangChain 0.3.12 and will be removed in 1.0. An updated version of the class exists in the :class:`~langchain-community package and should be used instead. To use it run `pip install -U :class:`~langchain-community` and import as `from :class:`~langchain_community.tools import QuerySQLDatabaseTool``.\n",
      "  execute_query = QuerySQLDataBaseTool(db=db)\n"
     ]
    },
    {
     "name": "stdout",
     "output_type": "stream",
     "text": [
      "(('nl2sql:027c88a7-7055-f603-b7a6-af0f31cae086',), {'tools': {'messages': [ToolMessage(content='[(347, \\'Koyaanisqatsi (Soundtrack from the Motion Picture)\\', 275), (346, \\'Mozart: Chamber Music\\', 274), (345, \"Monteverdi: L\\'Orfeo\", 273)]', name='nl2sql_tool', id='1df3ba32-7190-49c0-a540-a2f121b07afe', tool_call_id='call_NiHBxsXu5iHSLRujY8nzdeJS')]}})\n",
      "----\n",
      "(('nl2sql:027c88a7-7055-f603-b7a6-af0f31cae086',), {'agent': {'messages': [AIMessage(content=\"The top 3 albums in the Chinook database are as follows:\\n1. Koyaanisqatsi (Soundtrack from the Motion Picture)\\n2. Mozart: Chamber Music\\n3. Monteverdi: L'Orfeo\\n\\nThese are the top 3 albums based on the data in the Chinook database.\", additional_kwargs={'refusal': None}, response_metadata={'token_usage': {'completion_tokens': 69, 'prompt_tokens': 408, 'total_tokens': 477, 'completion_tokens_details': {'accepted_prediction_tokens': 0, 'audio_tokens': 0, 'reasoning_tokens': 0, 'rejected_prediction_tokens': 0}, 'prompt_tokens_details': {'audio_tokens': 0, 'cached_tokens': 0}}, 'model_name': 'gpt-3.5-turbo-0125', 'system_fingerprint': None, 'id': 'chatcmpl-BJT0swhzpj765nhY0wFakJy8s9Aoz', 'finish_reason': 'stop', 'logprobs': None}, id='run-82122223-7080-460f-9f66-43b84fa3a281-0', usage_metadata={'input_tokens': 408, 'output_tokens': 69, 'total_tokens': 477, 'input_token_details': {'audio': 0, 'cache_read': 0}, 'output_token_details': {'audio': 0, 'reasoning': 0}})]}})\n",
      "----\n",
      "((), {'nl2sql': {'messages': [HumanMessage(content=\"The top 3 albums in the Chinook database are as follows:\\n1. Koyaanisqatsi (Soundtrack from the Motion Picture)\\n2. Mozart: Chamber Music\\n3. Monteverdi: L'Orfeo\\n\\nThese are the top 3 albums based on the data in the Chinook database.\", additional_kwargs={}, response_metadata={}, name='nl2sql')]}})\n",
      "----\n"
     ]
    },
    {
     "name": "stderr",
     "output_type": "stream",
     "text": [
      "/Users/mehulmathur/AI Projects/Langgraph MultiAgent Basic/langgraph_multiagent/lib/python3.13/site-packages/langchain_openai/chat_models/base.py:1637: UserWarning: Cannot use method='json_schema' with model gpt-3.5-turbo since it doesn't support OpenAI's Structured Output API. You can see supported models here: https://platform.openai.com/docs/guides/structured-outputs#supported-models. To fix this warning, set `method='function_calling'. Overriding to method='function_calling'.\n",
      "  warnings.warn(\n"
     ]
    },
    {
     "name": "stdout",
     "output_type": "stream",
     "text": [
      "Next Worker: FINISH\n",
      "((), {'supervisor': None})\n",
      "----\n"
     ]
    }
   ],
   "source": [
    "# Example: Complex Query Using Multiple Agents\n",
    "input_question = \"Find the top 3 albums\"\n",
    "for s in graph.stream(\n",
    "    {\"messages\": [(\"user\", input_question)]}, \n",
    "    subgraphs=True\n",
    "):\n",
    "    print(s)\n",
    "    print(\"----\")\n"
   ]
  },
  {
   "cell_type": "code",
   "execution_count": null,
   "metadata": {},
   "outputs": [],
   "source": []
  }
 ],
 "metadata": {
  "kernelspec": {
   "display_name": "langgraph_multiagent",
   "language": "python",
   "name": "python3"
  },
  "language_info": {
   "codemirror_mode": {
    "name": "ipython",
    "version": 3
   },
   "file_extension": ".py",
   "mimetype": "text/x-python",
   "name": "python",
   "nbconvert_exporter": "python",
   "pygments_lexer": "ipython3",
   "version": "3.13.2"
  }
 },
 "nbformat": 4,
 "nbformat_minor": 2
}
