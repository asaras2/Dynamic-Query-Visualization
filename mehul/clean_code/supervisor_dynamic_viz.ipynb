{
 "cells": [
  {
   "cell_type": "code",
   "execution_count": 1,
   "metadata": {},
   "outputs": [],
   "source": [
    "from dotenv import load_dotenv\n",
    "load_dotenv()\n",
    "from langchain_openai import ChatOpenAI\n",
    "\n",
    "from langgraph_supervisor import create_supervisor\n",
    "from langgraph.prebuilt import create_react_agent\n",
    "from langchain.agents import AgentExecutor\n",
    "from typing_extensions import Annotated, TypedDict\n",
    "from typing import Callable, Literal, Optional, Sequence, Type, TypeVar, Union, cast, List, Tuple, Any\n",
    "from langchain_core.messages import AIMessage, BaseMessage, SystemMessage, ToolMessage\n",
    "from langgraph.graph.message import add_messages\n",
    "from langgraph.graph import StateGraph\n",
    "from langgraph.prebuilt.tool_node import ToolNode, tools_condition\n",
    "from langgraph.graph import MessagesState, START, END\n",
    "from langgraph.types import Command\n",
    "from langchain_core.messages import HumanMessage, AIMessage\n",
    "from pydantic import BaseModel, Field\n",
    "from langchain_core.runnables import RunnablePassthrough, RunnableLambda\n",
    "from langchain_core.tools import tool\n",
    "import json"
   ]
  },
  {
   "cell_type": "code",
   "execution_count": 2,
   "metadata": {},
   "outputs": [
    {
     "name": "stdout",
     "output_type": "stream",
     "text": [
      "INSIDE NL2SQL TOOL\n",
      "{'messages': [HumanMessage(content='Give me the names of 5 employees along with their full time or part time status', additional_kwargs={}, response_metadata={}, id='766b821d-df21-4ce7-9fe9-344039beac82'), ToolMessage(content='{\"question\": \"Give me the names of 5 employees along with their full time or part time status\", \"query\": \"SELECT \\\\\"first_name\\\\\", \\\\\"last_name\\\\\", \\\\\"full_time_or_part_time\\\\\" FROM analytical_schema.dim_ukg_employee_job_history_details LIMIT 5\"}', name='nl2sql_tool', id='bec28af6-4a31-41f8-8fc2-ad7a0bc4b6a5', tool_call_id='tool_123'), ToolMessage(content='{\"question\": \"Give me the names of 5 employees along with their full time or part time status\", \"query\": \"SELECT \\\\\"first_name\\\\\", \\\\\"last_name\\\\\", \\\\\"full_time_or_part_time\\\\\" FROM analytical_schema.dim_ukg_employee_job_history_details LIMIT 5\", \"result\": \"Error: (psycopg2.errors.UndefinedColumn) column \\\\\"first_name\\\\\" does not exist\\\\nLINE 1: SELECT \\\\\"first_name\\\\\", \\\\\"last_name\\\\\", \\\\\"full_time_or_part_time\\\\\" F...\\\\n               ^\\\\n\\\\n[SQL: SELECT \\\\\"first_name\\\\\", \\\\\"last_name\\\\\", \\\\\"full_time_or_part_time\\\\\" FROM analytical_schema.dim_ukg_employee_job_history_details LIMIT 5]\\\\n(Background on this error at: https://sqlalche.me/e/20/f405)\"}', name='exec_sql', id='adb94fa1-7e8a-4d5a-909a-6280d7c9a5ed', tool_call_id='tool_456'), ToolMessage(content='{\"question\": \"Give me the names of 5 employees along with their full time or part time status\", \"query\": \"SELECT T1.first_name, T1.last_name, T2.full_time_or_part_time FROM analytical_schema.dim_ukg_employee_demographic_details AS T1 INNER JOIN analytical_schema.dim_ukg_employee_job_history_details AS T2 ON T1.employee_id = T2.employee_id LIMIT 5\"}', name='correct_sql', id='cb090bad-41e2-4007-bfca-948fe95566e4', tool_call_id='tool_789'), ToolMessage(content='{\"question\": \"Give me the names of 5 employees along with their full time or part time status\", \"query\": \"SELECT T1.first_name, T1.last_name, T2.full_time_or_part_time FROM analytical_schema.dim_ukg_employee_demographic_details AS T1 INNER JOIN analytical_schema.dim_ukg_employee_job_history_details AS T2 ON T1.employee_id = T2.employee_id LIMIT 5\", \"result\": \"\"}', name='exec_sql', id='a3b418cf-82b1-4883-b2ae-8aa2f855e41c', tool_call_id='tool_456')]}\n",
      "   ethnic_description  count\n",
      "0  Hispanic or Latino     81\n",
      "1     Native American     57\n",
      "2               Asian     67\n",
      "3               White     74\n",
      "4                None    144\n",
      "----- Generating Code -----\n",
      "----- Executing code -----\n",
      "---- No Code Failures----\n",
      "import pandas as pd\n",
      "import plotly.graph_objects as go\n",
      "# Define data based on provided results\n",
      "results = [\n",
      "    ('Hispanic or Latino', 81),\n",
      "    ('Native American', 57),\n",
      "    ('Asian', 67),\n",
      "    ('White', 74),\n",
      "    (None, 144)\n",
      "]\n",
      "\n",
      "# Create a DataFrame\n",
      "columns = ['ethnic_description', 'count']\n",
      "df = pd.DataFrame(results, columns=columns)\n",
      "\n",
      "# Fill missing ethnic description with 'Unknown'\n",
      "df['ethnic_description'] = df['ethnic_description'].fillna('Unknown')\n",
      "\n",
      "# Create a bar chart\n",
      "fig = go.Figure(data=[\n",
      "    go.Bar(x=df['ethnic_description'], y=df['count'], text=df['count'], textposition='auto')\n",
      "])\n",
      "\n",
      "# Update layout\n",
      "fig.update_layout(\n",
      "    title='Number of Employees for Each Ethnicity',\n",
      "    xaxis_title='Ethnicity',\n",
      "    yaxis_title='Number of Employees'\n",
      ")\n",
      "\n",
      "fig\n"
     ]
    }
   ],
   "source": [
    "from sql_react_agent_llama import SQL_SUBAGENT, make_dataframe\n",
    "from viz_agent import VIZ_AGENT\n",
    "from initiate_llm import gpt_llm, llama_llm\n",
    "\n",
    "import pandas as pd"
   ]
  },
  {
   "cell_type": "markdown",
   "metadata": {},
   "source": [
    "##### Agent State and Setup"
   ]
  },
  {
   "cell_type": "code",
   "execution_count": null,
   "metadata": {},
   "outputs": [],
   "source": [
    "class AgentState(TypedDict):\n",
    "    \"\"\"The state of the agent.\"\"\"\n",
    "    messages: Annotated[Sequence[BaseMessage], add_messages]\n",
    "    question: Annotated[str, Field(description=\"The user question\")]\n",
    "    sql_query: Annotated[str, Field(description=\"The SQL query generated by the agent\")]\n",
    "    results: List[List[Union[int, float, str, bool]]] = Field(..., description=\"The results returned by the SQL agent as a list of tuples.\")\n",
    "    df: pd.DataFrame = Field(..., description=\"The table returned by the make_table node as a pandas dataframe.\")\n",
    "    python_visualization_code: Annotated[str, Field(description=\"The Python code to visualize the results\")]\n",
    "\n"
   ]
  },
  {
   "cell_type": "markdown",
   "metadata": {},
   "source": [
    "##### SQL Sub-agent"
   ]
  },
  {
   "cell_type": "code",
   "execution_count": 12,
   "metadata": {},
   "outputs": [],
   "source": [
    "# nl2sql_agent = create_agent(gpt_llm, [nl2sql_tool], \"nl2sql\")\n",
    "\n",
    "def nl2sql_node(state: AgentState) -> Command[Literal[\"supervisor\"]]:\n",
    "    last = state['messages'][-1]\n",
    "    question = last.content\n",
    "    try:\n",
    "        question = json.loads(question)\n",
    "        question = question[\"question\"]\n",
    "    except json.JSONDecodeError:\n",
    "        pass        \n",
    "    # print(last.content)\n",
    "    result = SQL_SUBAGENT.invoke({\"messages\": [HumanMessage(content=last.content)]})\n",
    "    return Command(\n",
    "        update={\n",
    "            \"messages\": [\n",
    "                HumanMessage(content=result[\"messages\"][-1].content, name=\"sql_agent\")\n",
    "            ],\n",
    "            \"question\": question,\n",
    "            \"sql_query\": json.loads(result[\"messages\"][-1].content)['query'],\n",
    "            \"results\": json.loads(result[\"messages\"][-1].content)['result'],\n",
    "        },\n",
    "        goto=\"supervisor\",\n",
    "    )"
   ]
  },
  {
   "cell_type": "markdown",
   "metadata": {},
   "source": [
    "##### Make table node"
   ]
  },
  {
   "cell_type": "code",
   "execution_count": 10,
   "metadata": {},
   "outputs": [],
   "source": [
    "def make_table_node(state: AgentState) -> Command[Literal[\"supervisor\"]]:\n",
    "    query = state[\"sql_query\"]\n",
    "    results = state[\"results\"]\n",
    "    df = make_dataframe(query, results)\n",
    "    return Command(\n",
    "        update={\n",
    "            \"messages\": [\n",
    "                (\n",
    "                    \"assistant\",\n",
    "                    f\"Here is the table I created from the results: {str(df)}\"\n",
    "                )\n",
    "            ],\n",
    "            \"df\": df,\n",
    "        },\n",
    "        goto=\"supervisor\",\n",
    "    )"
   ]
  },
  {
   "cell_type": "markdown",
   "metadata": {},
   "source": [
    "#### Vizualisation Node"
   ]
  },
  {
   "cell_type": "code",
   "execution_count": 11,
   "metadata": {},
   "outputs": [],
   "source": [
    "def viz_node(state: AgentState) -> Command[Literal[\"supervisor\"]]:\n",
    "    question = state[\"question\"]\n",
    "    df = state[\"df\"]\n",
    "    results = state[\"results\"]\n",
    "    viz_agent_state = {\n",
    "        \"question\": question,\n",
    "        \"df\": df,\n",
    "        \"results\": results,\n",
    "        \"messages\": [],\n",
    "        \"error\": \"\"\n",
    "    }\n",
    "\n",
    "    response = VIZ_AGENT.invoke(viz_agent_state)\n",
    "    viz_code = response[\"generation\"].imports + \"\\n\" + response[\"generation\"].code\n",
    "    return Command(\n",
    "        update={\n",
    "            \n",
    "            \"messages\": [\n",
    "                (\n",
    "                \"assistant\",\n",
    "                f\"Here is the visualization code for plotting the data:\\n {viz_code}\",\n",
    "                )\n",
    "            ],\n",
    "            \"python_visualization_code\": viz_code,\n",
    "        },\n",
    "        goto=\"supervisor\",\n",
    "    )"
   ]
  },
  {
   "cell_type": "markdown",
   "metadata": {},
   "source": [
    "#### Setting up Supervisor"
   ]
  },
  {
   "cell_type": "code",
   "execution_count": 14,
   "metadata": {},
   "outputs": [],
   "source": [
    "# Define available agents\n",
    "members = [\"sql_agent\", \"make_table\", \"viz_agent\"]\n",
    "# Add FINISH as an option for task completion\n",
    "options = members + [\"FINISH\"]\n"
   ]
  },
  {
   "cell_type": "code",
   "execution_count": 36,
   "metadata": {},
   "outputs": [],
   "source": [
    "supervisor_prompt = (\n",
    "    \"\"\"\n",
    "    You are a supervisor agent named \"SQLOrchestrator\" tasked with managing the following workers (subagents/nodes): {members}.\n",
    "\n",
    "Your job is to orchestrate a multi-step pipeline to answer the user's question stored in `AgentState.question`. You will examine the current `AgentState` fields in this order and decide which worker to invoke next:\n",
    "\n",
    "1. **SQL Generation & Execution**  \n",
    "   - If `AgentState.results` is empty (i.e. no SQL has been run), route to `sql_agent`.  \n",
    "   - The `sql_agent` should generate an `AgentState.sql_query` based on `AgentState.question`, execute it against the database, populate `AgentState.results` (a list of tuples), and append its result message to the conversation.\n",
    "\n",
    "2. **Table Construction**  \n",
    "   - *Only* after the SQL has been run and populated the results, check if `AgentState.df` is empty. \n",
    "   - If `AgentState.df` is empty (i.e. no DataFrame has been built), route to `make_table`.  \n",
    "   - The `make_table` node should take the raw `AgentState.results`, convert them into a pandas DataFrame `AgentState.df`, and append its result message to the conversation.\n",
    "\n",
    "3. **Visualization Code**  \n",
    "   - *Only* after the SQL has run, populated the results and the dataframe is made, check if `AgentState.python_visualization_code` is empty.\n",
    "   - If `AgentState.python_visualization_code` is empty, route to `viz_agent`.  \n",
    "   - The `viz_agent` should inspect `AgentState.df` and generate the Python code needed to visualize the data, set it in `AgentState.python_visualization_code`, and append its result message to the conversation.\n",
    "\n",
    "4. **Finish & Respond**  \n",
    "   - If all the necessary fields based on the intent of the question have been populated, route to `FINISH`.  \n",
    "   - When routing to `FINISH`, produce a natural-language final answer that directly addresses `AgentState.question` by summarizing the contents of `AgentState.df` and, if provided, reference the visualization code in `AgentState.python_visualization_code`. Include any key insights or metrics the user asked for.\n",
    "    \"\"\"\n",
    ")"
   ]
  },
  {
   "cell_type": "code",
   "execution_count": 29,
   "metadata": {},
   "outputs": [],
   "source": [
    "# Define router type for structured output\n",
    "class Router(TypedDict):\n",
    "    \"\"\"Worker to route to next. If no workers needed, route to FINISH - AND give the final answer.\"\"\"\n",
    "\n",
    "    \"\"\"The worker to route to next.\"\"\"\n",
    "    next: Literal[\"sql_agent\", \"make_table_node\", \"viz_agent\", \"FINISH\"]\n",
    "    \"\"\"The final answer to the user's question.\"\"\"\n",
    "    final_answer: str"
   ]
  },
  {
   "cell_type": "code",
   "execution_count": 30,
   "metadata": {},
   "outputs": [],
   "source": [
    "# Create supervisor node function\n",
    "def supervisor_node(state: AgentState) -> Command[Literal[\"sql_agent\", \"make_table_node\", \"viz_agent\", \"__end__\"]]:\n",
    "    messages = [\n",
    "        {\"role\": \"system\", \"content\": supervisor_prompt},\n",
    "    ] + state[\"messages\"]\n",
    "    print(\"\\n\\n========BACK TO SUPERVISOR========\\n\")\n",
    "\n",
    "    state_info = {k: v for k, v in state.items() if k != 'messages'}\n",
    "\n",
    "    messages = [\n",
    "        {\"role\": \"system\", \"content\": supervisor_prompt},\n",
    "        {\"role\": \"user\", \"content\": f\"AgentState: {json.dumps(state_info, default=str)}\"}\n",
    "    ] + state[\"messages\"]\n",
    "    \n",
    "    print(\"INVOKING WITH STATE INFO\\n\", state_info)\n",
    "    response = gpt_llm.with_structured_output(Router).invoke(messages)\n",
    "    goto = response[\"next\"]\n",
    "    print(f\"Next Worker: {goto}\")\n",
    "    if goto == \"FINISH\":\n",
    "        goto = END\n",
    "        return Command(\n",
    "            update={\n",
    "                \"messages\": [\n",
    "                    HumanMessage(content=response[\"final_answer\"], name=\"supervisor\")\n",
    "                ]\n",
    "            }\n",
    "            ,goto=goto)\n",
    "    \n",
    "    return Command(goto=goto)"
   ]
  },
  {
   "cell_type": "code",
   "execution_count": 31,
   "metadata": {},
   "outputs": [],
   "source": [
    "builder = StateGraph(AgentState)\n",
    "builder.add_edge(START, \"supervisor\")\n",
    "builder.add_node(\"supervisor\", supervisor_node)\n",
    "builder.add_node(\"sql_agent\", nl2sql_node)\n",
    "builder.add_node(\"make_table_node\", make_table_node)\n",
    "builder.add_node(\"viz_agent\", viz_node)\n",
    "graph = builder.compile()"
   ]
  },
  {
   "cell_type": "code",
   "execution_count": 32,
   "metadata": {},
   "outputs": [
    {
     "data": {
      "image/png": "[encoded data removed]",
      "text/plain": [
       "<IPython.core.display.Image object>"
      ]
     },
     "metadata": {},
     "output_type": "display_data"
    }
   ],
   "source": [
    "from IPython.display import Image, display\n",
    "\n",
    "try:\n",
    "    display(Image(graph.get_graph().draw_mermaid_png()))\n",
    "except Exception as e:\n",
    "    # You can put your exception handling code here\n",
    "    print(str(e))\n",
    "    pass\n"
   ]
  },
  {
   "cell_type": "code",
   "execution_count": 39,
   "metadata": {},
   "outputs": [
    {
     "name": "stdout",
     "output_type": "stream",
     "text": [
      "\n",
      "\n",
      "========BACK TO SUPERVISOR========\n",
      "\n",
      "INVOKING WITH STATE INFO\n",
      " {'question': '', 'sql_query': '', 'results': '', 'df': '', 'python_visualization_code': ''}\n",
      "Next Worker: sql_agent\n",
      "\n",
      "\n",
      "========BACK TO SUPERVISOR========\n",
      "\n",
      "INVOKING WITH STATE INFO\n",
      " {'question': 'Give me the number of employees present from each ethnicity', 'sql_query': 'SELECT \"ethnic_description\", COUNT(*) FROM analytical_schema.dim_ukg_employee_demographic_details GROUP BY \"ethnic_description\" LIMIT 5;', 'results': [['Hispanic or Latino', 81], ['Native American', 57], ['Asian', 67], ['White', 74], [None, 144]], 'df': '', 'python_visualization_code': ''}\n",
      "Next Worker: make_table_node\n",
      "\n",
      "\n",
      "========BACK TO SUPERVISOR========\n",
      "\n",
      "INVOKING WITH STATE INFO\n",
      " {'question': 'Give me the number of employees present from each ethnicity', 'sql_query': 'SELECT \"ethnic_description\", COUNT(*) FROM analytical_schema.dim_ukg_employee_demographic_details GROUP BY \"ethnic_description\" LIMIT 5;', 'results': [['Hispanic or Latino', 81], ['Native American', 57], ['Asian', 67], ['White', 74], [None, 144]], 'df':    ethnic_description  count\n",
      "0  Hispanic or Latino     81\n",
      "1     Native American     57\n",
      "2               Asian     67\n",
      "3               White     74\n",
      "4                None    144, 'python_visualization_code': ''}\n",
      "Next Worker: viz_agent\n",
      "----- Generating Code -----\n",
      "----- Executing code -----\n",
      "---- No Code Failures----\n",
      "\n",
      "\n",
      "========BACK TO SUPERVISOR========\n",
      "\n",
      "INVOKING WITH STATE INFO\n",
      " {'question': 'Give me the number of employees present from each ethnicity', 'sql_query': 'SELECT \"ethnic_description\", COUNT(*) FROM analytical_schema.dim_ukg_employee_demographic_details GROUP BY \"ethnic_description\" LIMIT 5;', 'results': [['Hispanic or Latino', 81], ['Native American', 57], ['Asian', 67], ['White', 74], [None, 144]], 'df':    ethnic_description  count\n",
      "0  Hispanic or Latino     81\n",
      "1     Native American     57\n",
      "2               Asian     67\n",
      "3               White     74\n",
      "4                None    144, 'python_visualization_code': \"import pandas as pd\\nimport plotly.graph_objects as go\\n# Construct DataFrame from provided data\\ndata = [['Hispanic or Latino', 81], ['Native American', 57], ['Asian', 67], ['White', 74], [None, 144]]\\ndf = pd.DataFrame(data, columns=['ethnic_description', 'count'])\\n\\n# Create a bar chart\\nfig = go.Figure()\\nfig.add_trace(go.Bar(x=df['ethnic_description'], y=df['count'], name='Employee Count'))\\n\\n# Update layout of the figure\\nfig.update_layout(title='Number of Employees Present by Ethnicity',\\n                  xaxis_title='Ethnicity',\\n                  yaxis_title='Number of Employees')\\n\\nfig\"}\n",
      "Next Worker: FINISH\n"
     ]
    }
   ],
   "source": [
    "initial_state = {\n",
    "    \"messages\": [HumanMessage(content=\"Give me the number of employees present from each ethnicity\")],\n",
    "    \"question\": \"\",\n",
    "    \"sql_query\": \"\",\n",
    "    \"results\": \"\",\n",
    "    \"df\": \"\",\n",
    "    \"python_visualization_code\": \"\"\n",
    "}\n",
    "\n",
    "result = graph.invoke(\n",
    "    initial_state\n",
    ")\n",
    "\n",
    "# print(result)\n"
   ]
  },
  {
   "cell_type": "code",
   "execution_count": 42,
   "metadata": {},
   "outputs": [
    {
     "name": "stdout",
     "output_type": "stream",
     "text": [
      "content='The number of employees present from each ethnicity is summarized as follows:\\n\\n- Hispanic or Latino: 81\\n- Native American: 57\\n- Asian: 67\\n- White: 74\\n- Undefined/Not Specified: 144\\n\\nI have also provided Python code to create a bar chart visualizing this data using Plotly.' additional_kwargs={} response_metadata={} name='supervisor' id='ac31a06a-4d24-43f0-a9e4-24bd6eb7bbf9'\n",
      "import pandas as pd\n",
      "import plotly.graph_objects as go\n",
      "# Construct DataFrame from provided data\n",
      "data = [['Hispanic or Latino', 81], ['Native American', 57], ['Asian', 67], ['White', 74], [None, 144]]\n",
      "df = pd.DataFrame(data, columns=['ethnic_description', 'count'])\n",
      "\n",
      "# Create a bar chart\n",
      "fig = go.Figure()\n",
      "fig.add_trace(go.Bar(x=df['ethnic_description'], y=df['count'], name='Employee Count'))\n",
      "\n",
      "# Update layout of the figure\n",
      "fig.update_layout(title='Number of Employees Present by Ethnicity',\n",
      "                  xaxis_title='Ethnicity',\n",
      "                  yaxis_title='Number of Employees')\n",
      "\n",
      "fig\n",
      "SELECT \"ethnic_description\", COUNT(*) FROM analytical_schema.dim_ukg_employee_demographic_details GROUP BY \"ethnic_description\" LIMIT 5;\n"
     ]
    },
    {
     "data": {
      "text/html": [
       "<div>\n",
       "<style scoped>\n",
       "    .dataframe tbody tr th:only-of-type {\n",
       "        vertical-align: middle;\n",
       "    }\n",
       "\n",
       "    .dataframe tbody tr th {\n",
       "        vertical-align: top;\n",
       "    }\n",
       "\n",
       "    .dataframe thead th {\n",
       "        text-align: right;\n",
       "    }\n",
       "</style>\n",
       "<table border=\"1\" class=\"dataframe\">\n",
       "  <thead>\n",
       "    <tr style=\"text-align: right;\">\n",
       "      <th></th>\n",
       "      <th>ethnic_description</th>\n",
       "      <th>count</th>\n",
       "    </tr>\n",
       "  </thead>\n",
       "  <tbody>\n",
       "    <tr>\n",
       "      <th>0</th>\n",
       "      <td>Hispanic or Latino</td>\n",
       "      <td>81</td>\n",
       "    </tr>\n",
       "    <tr>\n",
       "      <th>1</th>\n",
       "      <td>Native American</td>\n",
       "      <td>57</td>\n",
       "    </tr>\n",
       "    <tr>\n",
       "      <th>2</th>\n",
       "      <td>Asian</td>\n",
       "      <td>67</td>\n",
       "    </tr>\n",
       "    <tr>\n",
       "      <th>3</th>\n",
       "      <td>White</td>\n",
       "      <td>74</td>\n",
       "    </tr>\n",
       "    <tr>\n",
       "      <th>4</th>\n",
       "      <td>None</td>\n",
       "      <td>144</td>\n",
       "    </tr>\n",
       "  </tbody>\n",
       "</table>\n",
       "</div>"
      ],
      "text/plain": [
       "   ethnic_description  count\n",
       "0  Hispanic or Latino     81\n",
       "1     Native American     57\n",
       "2               Asian     67\n",
       "3               White     74\n",
       "4                None    144"
      ]
     },
     "execution_count": 42,
     "metadata": {},
     "output_type": "execute_result"
    }
   ],
   "source": [
    "print(result['messages'][-1])\n",
    "print(result[\"python_visualization_code\"])\n",
    "print(result[\"sql_query\"])\n",
    "result[\"df\"]"
   ]
  },
  {
   "cell_type": "code",
   "execution_count": 75,
   "metadata": {},
   "outputs": [
    {
     "name": "stdout",
     "output_type": "stream",
     "text": [
      "Next Worker: sql_agent\n",
      "Next Worker: FINISH\n",
      "{'messages': [HumanMessage(content='Give me the number of part time employees for each ethnicity', additional_kwargs={}, response_metadata={}, id='b7411c0d-2b98-4868-a8cb-817264c0e89a'), HumanMessage(content='{\"question\": \"Give me the number of part time employees for each ethnicity\", \"query\": \"SELECT T1.ethnic_description, COUNT(T1.employee_id) FROM analytical_schema.dim_ukg_employee_demographic_details AS T1 INNER JOIN analytical_schema.dim_ukg_employee_job_history_details AS T2 ON T1.employee_id = T2.employee_id WHERE T2.full_time_or_part_time = \\'PART_TIME\\' GROUP BY T1.ethnic_description\", \"result\": \"\"}', additional_kwargs={}, response_metadata={}, name='sql_agent', id='1c150272-3229-466a-b70f-4ca83f88e947'), HumanMessage(content='The query did not return any results, which means there might not be any part-time employees recorded for each ethnicity in the database.', additional_kwargs={}, response_metadata={}, name='supervisor', id='7c00ca7c-5597-4882-a060-bcfc3a8383bf')], 'question': 'Give me the number of part time employees for each ethnicity', 'sql_query': \"SELECT T1.ethnic_description, COUNT(T1.employee_id) FROM analytical_schema.dim_ukg_employee_demographic_details AS T1 INNER JOIN analytical_schema.dim_ukg_employee_job_history_details AS T2 ON T1.employee_id = T2.employee_id WHERE T2.full_time_or_part_time = 'PART_TIME' GROUP BY T1.ethnic_description\", 'results': ''}\n"
     ]
    }
   ],
   "source": [
    "result = graph.invoke(\n",
    "    {\"messages\": [HumanMessage(content=\"Give me the number of part time employees for each ethnicity\")]}\n",
    ")\n",
    "\n",
    "print(result)\n"
   ]
  },
  {
   "cell_type": "code",
   "execution_count": null,
   "metadata": {},
   "outputs": [],
   "source": []
  }
 ],
 "metadata": {
  "kernelspec": {
   "display_name": "langgraph-supervisor",
   "language": "python",
   "name": "python3"
  },
  "language_info": {
   "codemirror_mode": {
    "name": "ipython",
    "version": 3
   },
   "file_extension": ".py",
   "mimetype": "text/x-python",
   "name": "python",
   "nbconvert_exporter": "python",
   "pygments_lexer": "ipython3",
   "version": "3.13.2"
  }
 },
 "nbformat": 4,
 "nbformat_minor": 2
}
